{
 "cells": [
  {
   "cell_type": "code",
   "execution_count": 1,
   "metadata": {},
   "outputs": [],
   "source": [
    "# default_exp core"
   ]
  },
  {
   "cell_type": "markdown",
   "metadata": {},
   "source": [
    "# ParseDeep\n",
    "\n",
    "> Parse IEX DEEP files"
   ]
  },
  {
   "cell_type": "code",
   "execution_count": 2,
   "metadata": {},
   "outputs": [],
   "source": [
    "#hide\n",
    "from nbdev.showdoc import *"
   ]
  },
  {
   "cell_type": "code",
   "execution_count": 3,
   "metadata": {},
   "outputs": [],
   "source": [
    "#export\n",
    "from pcap import pcap\n",
    "from struct import unpack, unpack_from, calcsize"
   ]
  },
  {
   "cell_type": "code",
   "execution_count": 4,
   "metadata": {},
   "outputs": [],
   "source": [
    "#hide\n",
    "import pyarrow as pa \n",
    "import pyarrow.parquet as pq\n",
    "import pandas as pd\n"
   ]
  },
  {
   "cell_type": "code",
   "execution_count": 5,
   "metadata": {},
   "outputs": [],
   "source": [
    "#export\n",
    "class Msg():\n",
    "    \"Class for working with a DEEP message\"\n",
    "    def __init__(self, sequence_number, msg):\n",
    "        self.sequence_number = sequence_number\n",
    "        self.type = msg[0:1]        "
   ]
  },
  {
   "cell_type": "code",
   "execution_count": 6,
   "metadata": {},
   "outputs": [],
   "source": [
    "#export\n",
    "class PriceLevelUpdateMsg(Msg):\n",
    "    \"Class for working with a Price Level Update message\"\n",
    "    \n",
    "    def __init__(self, sequence_number, msg):\n",
    "        fmt = \"<bq8siq\"    \n",
    "        \n",
    "        self.event_flags, self.timestamp, self.symbol, self.size, self.price = \\\n",
    "            unpack_from(fmt, msg[1:])\n",
    "\n",
    "        self.symbol = self.symbol.rstrip()\n",
    "        self.price = self.price * .0001\n",
    "        \n",
    "        super().__init__(sequence_number, msg)        "
   ]
  },
  {
   "cell_type": "code",
   "execution_count": 7,
   "metadata": {},
   "outputs": [],
   "source": [
    "#export\n",
    "class BuySidePriceLevelUpdageMsg(PriceLevelUpdateMsg):\n",
    "    \"Class for working with a Buy Side Price Level Update message\""
   ]
  },
  {
   "cell_type": "code",
   "execution_count": 8,
   "metadata": {},
   "outputs": [],
   "source": [
    "#export\n",
    "class SellSidePriceLevelUpdageMsg(PriceLevelUpdateMsg):\n",
    "    \"Class for working with a Sell Side Price Level Update message\""
   ]
  },
  {
   "cell_type": "code",
   "execution_count": 9,
   "metadata": {},
   "outputs": [],
   "source": [
    "#export\n",
    "class UnsupportedMsg(Msg):\n",
    "    \"Class for catching unsupported messages\""
   ]
  },
  {
   "cell_type": "code",
   "execution_count": 10,
   "metadata": {},
   "outputs": [],
   "source": [
    "#export\n",
    "class Pkt():\n",
    "    \"Class for working with a DEEP packet\"\n",
    "    def __init__(self, pkt): \n",
    "        self.index = -1\n",
    "        \n",
    "        self.version     = b\"\\x01\"\n",
    "        self.reserved    = b\"\\x00\"\n",
    "        self.protocol_id = b\"\\x04\\x80\"        \n",
    "        self.channel_id  = b\"\\x01\\x00\\x00\\x00\"\n",
    "            \n",
    "        header = (\n",
    "            self.version + \n",
    "            self.reserved + \n",
    "            self.protocol_id + \n",
    "            self.channel_id\n",
    "        )\n",
    "    \n",
    "        pkt = pkt[pkt.find(header) + len(header):]\n",
    "\n",
    "        fmt = \"<lhhqqq\"\n",
    "        \n",
    "        self.session_id, self.payload_len, self.msg_count, self.stream_offset, self.first_msg_seq_num, self.send_time = \\\n",
    "            unpack_from(fmt, pkt)\n",
    "                  \n",
    "        self.msgs = pkt[calcsize(fmt):]        \n",
    "\n",
    "    def next_msg(self):\n",
    "        self.index += 1\n",
    "        if self.index == self.msg_count:\n",
    "            return None\n",
    "        else:\n",
    "            frag, msgs = self.msgs[0:2], self.msgs[2:]            \n",
    "            msg_len = unpack(\"<h\", frag)[0]\n",
    "            msg, self.msgs = msgs[0:msg_len], msgs[msg_len:]\n",
    "            \n",
    "            bare_message = Msg(self.first_msg_seq_num + self.index, msg)\n",
    "            if bare_message.type == b'8': # buy side\n",
    "                return BuySidePriceLevelUpdageMsg(self.first_msg_seq_num + self.index, msg)    \n",
    "            elif bare_message.type == b'5': # sell side\n",
    "                return SellSidePriceLevelUpdageMsg(self.first_msg_seq_num + self.index, msg)\n",
    "            \n",
    "            return UnsupportedMsg(self.first_msg_seq_num + self.index, msg)"
   ]
  },
  {
   "cell_type": "code",
   "execution_count": 11,
   "metadata": {},
   "outputs": [],
   "source": [
    "#export \n",
    "class Deep():\n",
    "    \"Class for working with a DEEP export file\"\n",
    "    def __init__(self, path):\n",
    "        self._pkt = None\n",
    "        self.pcap = pcap(path)\n",
    "\n",
    "    def __set_pkt(self, ts, _pkt):\n",
    "        self._pkt = Pkt(_pkt) \n",
    "        \n",
    "    def next_pkt(self):\n",
    "        if self.pcap.dispatch(1, self.__set_pkt) == 1:\n",
    "            return(self._pkt) \n",
    "        else:\n",
    "            return None"
   ]
  },
  {
   "cell_type": "code",
   "execution_count": 12,
   "metadata": {},
   "outputs": [],
   "source": [
    "deep = Deep('input\\data_feeds_20210924_20210924_IEXTP1_DEEP1.0.pcap')"
   ]
  },
  {
   "cell_type": "code",
   "execution_count": 13,
   "metadata": {},
   "outputs": [],
   "source": [
    "chunk_size = 1_000_000"
   ]
  },
  {
   "cell_type": "code",
   "execution_count": 14,
   "metadata": {},
   "outputs": [],
   "source": [
    "def write_chunk(msgs):\n",
    "    df = pd.DataFrame({\n",
    "        'timestamp': [m.timestamp for m in msgs],\n",
    "        'symbol': [m.symbol for m in msgs],\n",
    "        'size': [m.size for m in msgs],\n",
    "        'price': [m.price for m in msgs]\n",
    "    })\n",
    "    table = pa.Table.from_pandas(df)\n",
    "    pq.write_table(table, 'output\\price_level_updates_{}.parquet'.format(msgs[0].timestamp))"
   ]
  },
  {
   "cell_type": "code",
   "execution_count": 15,
   "metadata": {},
   "outputs": [
    {
     "name": "stdout",
     "output_type": "stream",
     "text": [
      "....................................................................................."
     ]
    }
   ],
   "source": [
    "i = 1\n",
    "msgs = []\n",
    "while pkt := deep.next_pkt():\n",
    "    while msg := pkt.next_msg():\n",
    "        if type(msg) != UnsupportedMsg:\n",
    "            msgs.append(msg)\n",
    "        if len(msgs) >= chunk_size:\n",
    "            write_chunk(msgs)\n",
    "            msgs = []\n",
    "            i += 1\n",
    "            print(\".\", end=\"\")\n",
    "\n",
    "# write remaining less than chunk_size left overs\n",
    "write_chunk(msgs)\n",
    "print(\".\")"
   ]
  }
 ],
 "metadata": {
  "kernelspec": {
   "display_name": "Python 3",
   "language": "python",
   "name": "python3"
  },
  "language_info": {
   "codemirror_mode": {
    "name": "ipython",
    "version": 3
   },
   "file_extension": ".py",
   "mimetype": "text/x-python",
   "name": "python",
   "nbconvert_exporter": "python",
   "pygments_lexer": "ipython3",
   "version": "3.8.8"
  }
 },
 "nbformat": 4,
 "nbformat_minor": 4
}
