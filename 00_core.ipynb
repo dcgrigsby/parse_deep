{
 "cells": [
  {
   "cell_type": "code",
   "execution_count": 1,
   "metadata": {},
   "outputs": [],
   "source": [
    "# default_exp core"
   ]
  },
  {
   "cell_type": "markdown",
   "metadata": {},
   "source": [
    "# ParseDeep\n",
    "\n",
    "> Parse IEX DEEP files"
   ]
  },
  {
   "cell_type": "code",
   "execution_count": 2,
   "metadata": {},
   "outputs": [],
   "source": [
    "#hide\n",
    "from nbdev.showdoc import *"
   ]
  },
  {
   "cell_type": "code",
   "execution_count": 3,
   "metadata": {},
   "outputs": [],
   "source": [
    "#export\n",
    "from pcap import pcap\n",
    "from struct import unpack, unpack_from, calcsize\n",
    "from functools import cache"
   ]
  },
  {
   "cell_type": "code",
   "execution_count": 4,
   "metadata": {},
   "outputs": [],
   "source": [
    "#hide\n",
    "import pyarrow as pa \n",
    "import pyarrow.parquet as pq\n",
    "import pandas as pd"
   ]
  },
  {
   "cell_type": "code",
   "execution_count": 5,
   "metadata": {},
   "outputs": [],
   "source": [
    "#export\n",
    "class Msg():\n",
    "    \"Class for working with a DEEP message\"\n",
    "    \n",
    "    msg_type = None\n",
    "    msg_sub_type = None\n",
    "    \n",
    "    def __init__(self, sequence_number, msg, debug=False):\n",
    "        self.sequence_number = sequence_number\n",
    "        self.type = msg[0:1]\n",
    "        self.debug = debug\n",
    "        if self.debug:\n",
    "            self.bytes = msg\n",
    "            \n",
    "    @classmethod\n",
    "    def matches_msg_type(cls, msg):\n",
    "        return msg[0:1] == cls.msg_type\n",
    "    \n",
    "    @classmethod\n",
    "    def matches_msg_sub_type(cls, msg):\n",
    "        return True # override message type has subtypes\n",
    "    \n",
    "    @classmethod\n",
    "    @cache\n",
    "    def type_clss(cls):\n",
    "        all = []\n",
    "        for type_cls in cls.__subclasses__():\n",
    "            all.append(type_cls)\n",
    "            for sub_type_cls in type_cls.__subclasses__():\n",
    "                all.append(sub_type_cls)\n",
    "        return all\n",
    "            \n",
    "    @classmethod\n",
    "    def factory(cls, sequence_number, msg, debug=False):\n",
    "        for type_cls in Msg.type_clss():\n",
    "            if type_cls.matches_msg_type(msg) and type_cls.matches_msg_sub_type(msg):\n",
    "                return type_cls(sequence_number, msg, debug=debug)\n",
    "        return UnsupportedMsg(sequence_number, msg, debug=debug)"
   ]
  },
  {
   "cell_type": "code",
   "execution_count": 6,
   "metadata": {},
   "outputs": [],
   "source": [
    "#export\n",
    "class PriceLevelUpdateMsg(Msg):\n",
    "    \"Class for working with a Price Level Update message\"\n",
    "\n",
    "    def __init__(self, sequence_number, msg, debug=False):\n",
    "        fmt = \"<bq8siq\"    \n",
    "        \n",
    "        self.event_flags, self.timestamp, self.symbol, self.size, self.price = \\\n",
    "            unpack_from(fmt, msg[1:])\n",
    "\n",
    "        self.symbol = self.symbol.rstrip().decode('UTF-8')\n",
    "        self.price = self.price / 10000\n",
    "                \n",
    "        super().__init__(sequence_number, msg, debug=debug)        "
   ]
  },
  {
   "cell_type": "code",
   "execution_count": 7,
   "metadata": {},
   "outputs": [],
   "source": [
    "#export\n",
    "class BuySidePriceLevelUpdageMsg(PriceLevelUpdateMsg):\n",
    "    \"Class for working with a Buy Side Price Level Update message\"\n",
    "    msg_type = b'8'"
   ]
  },
  {
   "cell_type": "code",
   "execution_count": 8,
   "metadata": {},
   "outputs": [],
   "source": [
    "#export\n",
    "class SellSidePriceLevelUpdageMsg(PriceLevelUpdateMsg):\n",
    "    \"Class for working with a Sell Side Price Level Update message\"\n",
    "    msg_type = b'5'"
   ]
  },
  {
   "cell_type": "code",
   "execution_count": 9,
   "metadata": {},
   "outputs": [],
   "source": [
    "#export\n",
    "class SystemEventMsg(Msg):\n",
    "    \"Class for working with a System Event message\"\n",
    "    \n",
    "    @classmethod\n",
    "    def matches_msg_sub_type(cls, msg):\n",
    "        return msg[1:2] == cls.msg_sub_type"
   ]
  },
  {
   "cell_type": "code",
   "execution_count": 10,
   "metadata": {},
   "outputs": [],
   "source": [
    "class StartOfMessagesMsg(SystemEventMsg):\n",
    "    \"Class for working with Start of Messages message\"\n",
    "    msg_type = b'S'\n",
    "    msg_sub_type = b'O'"
   ]
  },
  {
   "cell_type": "code",
   "execution_count": 11,
   "metadata": {},
   "outputs": [],
   "source": [
    "class StartOfSystemHoursMsg(SystemEventMsg):\n",
    "    \"Class for working with Start of System Hours message\"\n",
    "    msg_type = b'S'\n",
    "    msg_sub_type = b'S'"
   ]
  },
  {
   "cell_type": "code",
   "execution_count": 12,
   "metadata": {},
   "outputs": [],
   "source": [
    "class StartOfRegularMarketHoursMsg(SystemEventMsg):\n",
    "    \"Class for working with Start of Regular Market Hours message\"\n",
    "    msg_type = b'S'\n",
    "    msg_sub_type = b'R'"
   ]
  },
  {
   "cell_type": "code",
   "execution_count": 13,
   "metadata": {},
   "outputs": [],
   "source": [
    "class EndOfRegularMarketHoursMsg(SystemEventMsg):\n",
    "    \"Class for working with End of Regular Market Hours message\"\n",
    "    msg_type = b'S'\n",
    "    msg_sub_type = b'M'"
   ]
  },
  {
   "cell_type": "code",
   "execution_count": 14,
   "metadata": {},
   "outputs": [],
   "source": [
    "class EndOfSystemHoursMsg(SystemEventMsg):\n",
    "    \"Class for working with End of System Hours message\"\n",
    "    msg_type = b'S'\n",
    "    msg_sub_type = b'E'"
   ]
  },
  {
   "cell_type": "code",
   "execution_count": 15,
   "metadata": {},
   "outputs": [],
   "source": [
    "class EndOfMessagesMsg(SystemEventMsg):\n",
    "    \"Class for working with End of Messages message\"\n",
    "    msg_type = b'S'\n",
    "    msg_sub_type = b'C'"
   ]
  },
  {
   "cell_type": "code",
   "execution_count": 16,
   "metadata": {},
   "outputs": [],
   "source": [
    "class ShortSalePriceTestStatusMsg(Msg):\n",
    "    \"Class for working with Short Sale Price Test Status message\"\n",
    "  \n",
    "    @classmethod\n",
    "    def matches_msg_sub_type(cls, msg):\n",
    "        return unpack(\"<b\", msg[1:2])[0] == cls.msg_sub_type\n",
    "        \n",
    "    def __init__(self, sequence_number, msg, debug=False):\n",
    "        fmt = \"<bq8sb\"    \n",
    "        \n",
    "        self.status, self.timestamp, self.symbol, self.detail = \\\n",
    "            unpack_from(fmt, msg[1:])\n",
    "\n",
    "        self.symbol = self.symbol.rstrip().decode('UTF-8')\n",
    "                \n",
    "        super().__init__(sequence_number, msg, debug=debug)"
   ]
  },
  {
   "cell_type": "code",
   "execution_count": 17,
   "metadata": {},
   "outputs": [],
   "source": [
    "class ShortSalePriceTestNotInEffect(ShortSalePriceTestStatusMsg):\n",
    "    \"Class for working with Short Sale Price Test Not In Effect message\"\n",
    "    msg_type = b'P'\n",
    "    msg_sub_type = 0"
   ]
  },
  {
   "cell_type": "code",
   "execution_count": 18,
   "metadata": {},
   "outputs": [],
   "source": [
    "class ShortSalePriceTestInEffect(ShortSalePriceTestStatusMsg):\n",
    "    \"Class for working with Short Sale Price Test In Effect message\"\n",
    "    msg_type = b'P'\n",
    "    msg_sub_type = 1"
   ]
  },
  {
   "cell_type": "code",
   "execution_count": 19,
   "metadata": {},
   "outputs": [],
   "source": [
    "class OperationalHaltStatusMsg(Msg):\n",
    "    \"Class for working with Operational Halt Status message\"\n",
    "    \n",
    "    @classmethod\n",
    "    def matches_msg_sub_type(cls, msg):\n",
    "        return unpack(\"<c\", msg[1:2])[0] == cls.msg_sub_type\n",
    "\n",
    "    \n",
    "    def __init__(self, sequence_number, msg, debug=False):\n",
    "        fmt = \"<bq8s\"    \n",
    "        \n",
    "        self.status, self.timestamp, self.symbol = \\\n",
    "            unpack_from(fmt, msg[1:])\n",
    "\n",
    "        self.symbol = self.symbol.rstrip().decode('UTF-8')\n",
    "            \n",
    "        super().__init__(sequence_number, msg, debug=debug)"
   ]
  },
  {
   "cell_type": "code",
   "execution_count": 20,
   "metadata": {},
   "outputs": [],
   "source": [
    "class IEXSpecificOperationalTradingHaltMsg(OperationalHaltStatusMsg):\n",
    "    \"Class for working with IEX Specific Operational Trading Halt message\"\n",
    "    msg_type = b'O'\n",
    "    msg_sub_type = b'O'"
   ]
  },
  {
   "cell_type": "code",
   "execution_count": 21,
   "metadata": {},
   "outputs": [],
   "source": [
    "class NotOperationallyHaltedOnIEXMsg(OperationalHaltStatusMsg):\n",
    "    \"Class for working with Not Operationally Halted On IEX message\"\n",
    "    msg_type = b'O'\n",
    "    msg_sub_type = b'N'"
   ]
  },
  {
   "cell_type": "code",
   "execution_count": 22,
   "metadata": {},
   "outputs": [],
   "source": [
    "class TradingStatusMsg(Msg):\n",
    "    \"Class for working with Trading Status message\"\n",
    "\n",
    "    @classmethod\n",
    "    def matches_msg_sub_type(cls, msg):\n",
    "        return unpack(\"<c\", msg[1:2])[0] == cls.msg_sub_type\n",
    "    \n",
    "    def __init__(self, sequence_number, msg, debug=False):\n",
    "        fmt = \"<cq12s\"    \n",
    "        \n",
    "        self.status, self.timestamp, s = \\\n",
    "            unpack_from(fmt, msg[1:])\n",
    "\n",
    "        self.symbol, self.reason = s[0:7], s[8:11]\n",
    "        \n",
    "        self.symbol = self.symbol.rstrip().decode('UTF-8')\n",
    "        self.reason = self.reason.rstrip().decode('UTF-8')\n",
    "\n",
    "        super().__init__(sequence_number, msg, debug=debug)"
   ]
  },
  {
   "cell_type": "code",
   "execution_count": 23,
   "metadata": {},
   "outputs": [],
   "source": [
    "class TradingHaltedAcrossAllUSEquityMarketsMsg(TradingStatusMsg):\n",
    "    \"Class for working with Trading Haldted Across All US Equity Markets message\"\n",
    "    msg_type = b'H'\n",
    "    msg_sub_type = b'H'  "
   ]
  },
  {
   "cell_type": "code",
   "execution_count": 24,
   "metadata": {},
   "outputs": [],
   "source": [
    "class TradingHaltReleasedIntoAnOrderAcceptancePeriodOnIEXMsg(TradingStatusMsg):\n",
    "    \"Class for working with Trading Halt Released Into An Order Acceptance Period On IEX message\"\n",
    "    msg_type = b'H'\n",
    "    msg_sub_type = b'O'"
   ]
  },
  {
   "cell_type": "code",
   "execution_count": 25,
   "metadata": {},
   "outputs": [],
   "source": [
    "class TradingPausedAndOrderAcceptancePeriodOnIEXMsg(TradingStatusMsg):\n",
    "    \"Class for working with TradingPausedAndOrderAcceptancePeriodOnIEX message\"\n",
    "    msg_type = b'H'\n",
    "    msg_sub_type = b'P'"
   ]
  },
  {
   "cell_type": "code",
   "execution_count": 26,
   "metadata": {},
   "outputs": [],
   "source": [
    "class TradingOnIEX(TradingStatusMsg):\n",
    "    \"Class for working with TradingOnIEX message\"\n",
    "    msg_type = b'H'\n",
    "    msg_sub_type = b'T'"
   ]
  },
  {
   "cell_type": "code",
   "execution_count": 27,
   "metadata": {},
   "outputs": [],
   "source": [
    "class SecurityDirectoryMsg(Msg):\n",
    "    \"Class for working with SecurityDirectory message\"\n",
    "    msg_type = b'D'\n",
    "    \n",
    "    def __init__(self, sequence_number, msg, debug=False):\n",
    "        fmt = \"<bq8siqb\"    \n",
    "        \n",
    "        self.flags, self.timestamp, self.symbol, self.round_lot_size, self.adjusted_poc_price, self.luld_tier = \\\n",
    "            unpack_from(fmt, msg[1:])\n",
    "        \n",
    "        self.symbol = self.symbol.rstrip().decode('UTF-8')\n",
    "\n",
    "        self.adjusted_poc_price = self.adjusted_poc_price / 10000\n",
    "        \n",
    "        super().__init__(sequence_number, msg, debug=debug)"
   ]
  },
  {
   "cell_type": "code",
   "execution_count": 28,
   "metadata": {},
   "outputs": [],
   "source": [
    "#export\n",
    "class UnsupportedMsg(Msg):\n",
    "    \"Class for catching unsupported messages\""
   ]
  },
  {
   "cell_type": "code",
   "execution_count": 29,
   "metadata": {},
   "outputs": [],
   "source": [
    "#export\n",
    "class Pkt():\n",
    "    \"Class for working with a DEEP packet\"\n",
    "    def __init__(self, pkt, debug=False):\n",
    "        self.debug = debug\n",
    "        if self.debug:\n",
    "            self.bytes = pkt\n",
    "        \n",
    "        self.index = -1\n",
    "        \n",
    "        self.version     = b\"\\x01\"\n",
    "        self.reserved    = b\"\\x00\"\n",
    "        self.protocol_id = b\"\\x04\\x80\"        \n",
    "        self.channel_id  = b\"\\x01\\x00\\x00\\x00\"\n",
    "            \n",
    "        header = (\n",
    "            self.version + \n",
    "            self.reserved + \n",
    "            self.protocol_id + \n",
    "            self.channel_id\n",
    "        )\n",
    "    \n",
    "        pkt = pkt[pkt.find(header) + len(header):]\n",
    "\n",
    "        fmt = \"<lhhqqq\"\n",
    "        \n",
    "        self.session_id, self.payload_len, self.msg_count, self.stream_offset, self.first_msg_seq_num, self.send_time = \\\n",
    "            unpack_from(fmt, pkt)\n",
    "                  \n",
    "        self.msgs = pkt[calcsize(fmt):]        \n",
    "\n",
    "    def next_msg(self):\n",
    "        self.index += 1\n",
    "        if self.index == self.msg_count:\n",
    "            return None\n",
    "        else:\n",
    "            frag, msgs = self.msgs[0:2], self.msgs[2:]            \n",
    "            msg_len = unpack(\"<h\", frag)[0]\n",
    "            msg, self.msgs = msgs[0:msg_len], msgs[msg_len:]\n",
    "            return Msg.factory(self.first_msg_seq_num + self.index, msg, debug=self.debug)"
   ]
  },
  {
   "cell_type": "code",
   "execution_count": 30,
   "metadata": {},
   "outputs": [],
   "source": [
    "#export \n",
    "class Deep():\n",
    "    \"Class for working with a DEEP export file\"\n",
    "    def __init__(self, path, debug=False):\n",
    "        self._pkt = None\n",
    "        self.pcap = pcap(path)\n",
    "        self.debug = debug\n",
    "        \n",
    "    def __set_pkt(self, ts, _pkt):\n",
    "        self._pkt = Pkt(_pkt, debug=self.debug) \n",
    "        \n",
    "    def next_pkt(self):\n",
    "        if self.pcap.dispatch(1, self.__set_pkt) == 1:\n",
    "            return(self._pkt) \n",
    "        else:\n",
    "            return None"
   ]
  },
  {
   "cell_type": "code",
   "execution_count": 31,
   "metadata": {},
   "outputs": [],
   "source": [
    "deep = Deep('input\\data_feeds_20210924_20210924_IEXTP1_DEEP1.0.pcap', debug=True)"
   ]
  },
  {
   "cell_type": "code",
   "execution_count": 32,
   "metadata": {},
   "outputs": [
    {
     "name": "stdout",
     "output_type": "stream",
     "text": [
      "{'sequence_number': 34016, 'type': b'T', 'debug': True, 'bytes': b'T@\\x06\\xd5\\x97\\x14G\\xc0\\xa7\\x16CAPR    d\\x00\\x00\\x00\\xe0\\xf6\\x00\\x00\\x00\\x00\\x00\\x00\\xc0\\xe8*\\x00\\x00\\x00\\x00\\x00'}\n"
     ]
    },
    {
     "ename": "RuntimeError",
     "evalue": "No active exception to reraise",
     "output_type": "error",
     "traceback": [
      "\u001b[1;31m---------------------------------------------------------------------------\u001b[0m",
      "\u001b[1;31mRuntimeError\u001b[0m                              Traceback (most recent call last)",
      "\u001b[1;32m~\\AppData\\Local\\Temp/ipykernel_12580/1121058138.py\u001b[0m in \u001b[0;36m<module>\u001b[1;34m\u001b[0m\n\u001b[0;32m      4\u001b[0m         \u001b[1;32mif\u001b[0m \u001b[0mtype\u001b[0m\u001b[1;33m(\u001b[0m\u001b[0mmsg\u001b[0m\u001b[1;33m)\u001b[0m \u001b[1;33m==\u001b[0m \u001b[0mUnsupportedMsg\u001b[0m\u001b[1;33m:\u001b[0m\u001b[1;33m\u001b[0m\u001b[1;33m\u001b[0m\u001b[0m\n\u001b[0;32m      5\u001b[0m             \u001b[0mprint\u001b[0m\u001b[1;33m(\u001b[0m\u001b[0mvars\u001b[0m\u001b[1;33m(\u001b[0m\u001b[0mmsg\u001b[0m\u001b[1;33m)\u001b[0m\u001b[1;33m)\u001b[0m\u001b[1;33m\u001b[0m\u001b[1;33m\u001b[0m\u001b[0m\n\u001b[1;32m----> 6\u001b[1;33m             \u001b[1;32mraise\u001b[0m\u001b[1;33m\u001b[0m\u001b[1;33m\u001b[0m\u001b[0m\n\u001b[0m",
      "\u001b[1;31mRuntimeError\u001b[0m: No active exception to reraise"
     ]
    }
   ],
   "source": [
    "n = 0\n",
    "while pkt := deep.next_pkt():\n",
    "    while msg := pkt.next_msg():\n",
    "        if type(msg) == UnsupportedMsg:\n",
    "            print(vars(msg))\n",
    "            raise"
   ]
  },
  {
   "cell_type": "code",
   "execution_count": null,
   "metadata": {},
   "outputs": [],
   "source": [
    "deep = Deep('input\\data_feeds_20210924_20210924_IEXTP1_DEEP1.0.pcap')"
   ]
  },
  {
   "cell_type": "code",
   "execution_count": null,
   "metadata": {},
   "outputs": [],
   "source": [
    "chunk_size = 1_000_000"
   ]
  },
  {
   "cell_type": "code",
   "execution_count": null,
   "metadata": {},
   "outputs": [],
   "source": [
    "def write_chunk(msgs):\n",
    "    df = pd.DataFrame({\n",
    "        'flags': [m.event_flags for m in msgs],\n",
    "        'timestamp': [m.timestamp for m in msgs],\n",
    "        'symbol': [m.symbol for m in msgs],\n",
    "        'size': [m.size for m in msgs],\n",
    "        'price': [m.price for m in msgs],\n",
    "        'side': ['buy' if type(msg) == BuySidePriceLevelUpdageMsg else 'sell' for m in msgs]\n",
    "    })\n",
    "    table = pa.Table.from_pandas(df)\n",
    "    pq.write_table(table, 'output\\price_level_updates_{}.parquet'.format(msgs[0].timestamp))"
   ]
  },
  {
   "cell_type": "code",
   "execution_count": null,
   "metadata": {},
   "outputs": [],
   "source": [
    "i = 1\n",
    "msgs = []\n",
    "while pkt := deep.next_pkt():\n",
    "    while msg := pkt.next_msg():\n",
    "        if type(msg) != UnsupportedMsg:\n",
    "            msgs.append(msg)                    \n",
    "        if len(msgs) >= chunk_size:\n",
    "            write_chunk(msgs)\n",
    "            msgs = []\n",
    "            i += 1\n",
    "            print(\".\", end=\"\")\n",
    "\n",
    "# write remaining less than chunk_size left overs\n",
    "write_chunk(msgs)\n",
    "print(\".\")"
   ]
  }
 ],
 "metadata": {
  "kernelspec": {
   "display_name": "Python 3 (ipykernel)",
   "language": "python",
   "name": "python3"
  },
  "language_info": {
   "codemirror_mode": {
    "name": "ipython",
    "version": 3
   },
   "file_extension": ".py",
   "mimetype": "text/x-python",
   "name": "python",
   "nbconvert_exporter": "python",
   "pygments_lexer": "ipython3",
   "version": "3.9.5"
  }
 },
 "nbformat": 4,
 "nbformat_minor": 4
}
